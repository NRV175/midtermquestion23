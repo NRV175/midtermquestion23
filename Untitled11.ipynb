{
 "cells": [
  {
   "cell_type": "code",
   "execution_count": 1,
   "id": "65bc0632-1b92-439c-9f2d-10ccde3e53e0",
   "metadata": {},
   "outputs": [
    {
     "name": "stdout",
     "output_type": "stream",
     "text": [
      "f(0, 0):\n",
      "\n",
      "f(0, 1):\n",
      "*\n",
      "\n",
      "f(0, 2):\n",
      "*\n",
      "**\n",
      "*\n",
      "\n",
      "f(0, 4):\n",
      "*\n",
      "**\n",
      "*\n",
      "****\n",
      "*\n",
      "**\n",
      "*\n"
     ]
    }
   ],
   "source": [
    "def tough(indent, n):\n",
    "    \n",
    "    if n == 0:\n",
    "        return\n",
    "    \n",
    "   \n",
    "    tough(indent, n // 2) \n",
    "    \n",
    "   \n",
    "    print(' ' * indent + '*' * n)  \n",
    "\n",
    "    \n",
    "    tough(indent, n // 2)  \n",
    "\n",
    "\n",
    "print(\"f(0, 0):\")\n",
    "tough(0, 0)  \n",
    "\n",
    "print(\"\\nf(0, 1):\")\n",
    "tough(0, 1)  \n",
    "\n",
    "print(\"\\nf(0, 2):\")\n",
    "tough(0, 2) \n",
    "\n",
    "\n",
    "print(\"\\nf(0, 4):\")\n",
    "tough(0, 4) \n",
    "\n"
   ]
  },
  {
   "cell_type": "code",
   "execution_count": null,
   "id": "85729c6c-a6a4-466b-933d-e27e9fe5d285",
   "metadata": {},
   "outputs": [],
   "source": []
  }
 ],
 "metadata": {
  "kernelspec": {
   "display_name": "Python 3 (ipykernel)",
   "language": "python",
   "name": "python3"
  },
  "language_info": {
   "codemirror_mode": {
    "name": "ipython",
    "version": 3
   },
   "file_extension": ".py",
   "mimetype": "text/x-python",
   "name": "python",
   "nbconvert_exporter": "python",
   "pygments_lexer": "ipython3",
   "version": "3.12.4"
  }
 },
 "nbformat": 4,
 "nbformat_minor": 5
}
